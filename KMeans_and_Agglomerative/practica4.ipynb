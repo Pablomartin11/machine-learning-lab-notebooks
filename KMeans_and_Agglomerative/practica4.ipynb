{
 "cells": [
  {
   "cell_type": "markdown",
   "metadata": {},
   "source": [
    "# _**PRÁCTICA 4 - MIND**_\n"
   ]
  },
  {
   "cell_type": "markdown",
   "metadata": {},
   "source": [
    "_Pablo Martín de Benito_\n"
   ]
  },
  {
   "cell_type": "markdown",
   "metadata": {},
   "source": [
    "---"
   ]
  },
  {
   "cell_type": "code",
   "execution_count": 149,
   "metadata": {},
   "outputs": [],
   "source": [
    "import pandas as pd\n",
    "import numpy as np\n",
    "import scipy.cluster.hierarchy as sch\n",
    "\n",
    "\n",
    "from sklearn.preprocessing import StandardScaler\n",
    "from sklearn.cluster import KMeans,AgglomerativeClustering\n",
    "from sklearn.model_selection import StratifiedKFold\n",
    "from statistics import mode\n"
   ]
  },
  {
   "cell_type": "code",
   "execution_count": 11,
   "metadata": {},
   "outputs": [
    {
     "data": {
      "text/html": [
       "<div>\n",
       "<style scoped>\n",
       "    .dataframe tbody tr th:only-of-type {\n",
       "        vertical-align: middle;\n",
       "    }\n",
       "\n",
       "    .dataframe tbody tr th {\n",
       "        vertical-align: top;\n",
       "    }\n",
       "\n",
       "    .dataframe thead th {\n",
       "        text-align: right;\n",
       "    }\n",
       "</style>\n",
       "<table border=\"1\" class=\"dataframe\">\n",
       "  <thead>\n",
       "    <tr style=\"text-align: right;\">\n",
       "      <th></th>\n",
       "      <th>0</th>\n",
       "      <th>1</th>\n",
       "      <th>2</th>\n",
       "      <th>3</th>\n",
       "      <th>4</th>\n",
       "      <th>5</th>\n",
       "      <th>6</th>\n",
       "      <th>7</th>\n",
       "    </tr>\n",
       "  </thead>\n",
       "  <tbody>\n",
       "    <tr>\n",
       "      <th>0</th>\n",
       "      <td>15.26</td>\n",
       "      <td>14.84</td>\n",
       "      <td>0.8710</td>\n",
       "      <td>5.763</td>\n",
       "      <td>3.312</td>\n",
       "      <td>2.221</td>\n",
       "      <td>5.220</td>\n",
       "      <td>1</td>\n",
       "    </tr>\n",
       "    <tr>\n",
       "      <th>1</th>\n",
       "      <td>14.88</td>\n",
       "      <td>14.57</td>\n",
       "      <td>0.8811</td>\n",
       "      <td>5.554</td>\n",
       "      <td>3.333</td>\n",
       "      <td>1.018</td>\n",
       "      <td>4.956</td>\n",
       "      <td>1</td>\n",
       "    </tr>\n",
       "    <tr>\n",
       "      <th>2</th>\n",
       "      <td>14.29</td>\n",
       "      <td>14.09</td>\n",
       "      <td>0.9050</td>\n",
       "      <td>5.291</td>\n",
       "      <td>3.337</td>\n",
       "      <td>2.699</td>\n",
       "      <td>4.825</td>\n",
       "      <td>1</td>\n",
       "    </tr>\n",
       "    <tr>\n",
       "      <th>3</th>\n",
       "      <td>13.84</td>\n",
       "      <td>13.94</td>\n",
       "      <td>0.8955</td>\n",
       "      <td>5.324</td>\n",
       "      <td>3.379</td>\n",
       "      <td>2.259</td>\n",
       "      <td>4.805</td>\n",
       "      <td>1</td>\n",
       "    </tr>\n",
       "    <tr>\n",
       "      <th>4</th>\n",
       "      <td>16.14</td>\n",
       "      <td>14.99</td>\n",
       "      <td>0.9034</td>\n",
       "      <td>5.658</td>\n",
       "      <td>3.562</td>\n",
       "      <td>1.355</td>\n",
       "      <td>5.175</td>\n",
       "      <td>1</td>\n",
       "    </tr>\n",
       "    <tr>\n",
       "      <th>...</th>\n",
       "      <td>...</td>\n",
       "      <td>...</td>\n",
       "      <td>...</td>\n",
       "      <td>...</td>\n",
       "      <td>...</td>\n",
       "      <td>...</td>\n",
       "      <td>...</td>\n",
       "      <td>...</td>\n",
       "    </tr>\n",
       "    <tr>\n",
       "      <th>205</th>\n",
       "      <td>12.19</td>\n",
       "      <td>13.20</td>\n",
       "      <td>0.8783</td>\n",
       "      <td>5.137</td>\n",
       "      <td>2.981</td>\n",
       "      <td>3.631</td>\n",
       "      <td>4.870</td>\n",
       "      <td>3</td>\n",
       "    </tr>\n",
       "    <tr>\n",
       "      <th>206</th>\n",
       "      <td>11.23</td>\n",
       "      <td>12.88</td>\n",
       "      <td>0.8511</td>\n",
       "      <td>5.140</td>\n",
       "      <td>2.795</td>\n",
       "      <td>4.325</td>\n",
       "      <td>5.003</td>\n",
       "      <td>3</td>\n",
       "    </tr>\n",
       "    <tr>\n",
       "      <th>207</th>\n",
       "      <td>13.20</td>\n",
       "      <td>13.66</td>\n",
       "      <td>0.8883</td>\n",
       "      <td>5.236</td>\n",
       "      <td>3.232</td>\n",
       "      <td>8.315</td>\n",
       "      <td>5.056</td>\n",
       "      <td>3</td>\n",
       "    </tr>\n",
       "    <tr>\n",
       "      <th>208</th>\n",
       "      <td>11.84</td>\n",
       "      <td>13.21</td>\n",
       "      <td>0.8521</td>\n",
       "      <td>5.175</td>\n",
       "      <td>2.836</td>\n",
       "      <td>3.598</td>\n",
       "      <td>5.044</td>\n",
       "      <td>3</td>\n",
       "    </tr>\n",
       "    <tr>\n",
       "      <th>209</th>\n",
       "      <td>12.30</td>\n",
       "      <td>13.34</td>\n",
       "      <td>0.8684</td>\n",
       "      <td>5.243</td>\n",
       "      <td>2.974</td>\n",
       "      <td>5.637</td>\n",
       "      <td>5.063</td>\n",
       "      <td>3</td>\n",
       "    </tr>\n",
       "  </tbody>\n",
       "</table>\n",
       "<p>210 rows × 8 columns</p>\n",
       "</div>"
      ],
      "text/plain": [
       "         0      1       2      3      4      5      6  7\n",
       "0    15.26  14.84  0.8710  5.763  3.312  2.221  5.220  1\n",
       "1    14.88  14.57  0.8811  5.554  3.333  1.018  4.956  1\n",
       "2    14.29  14.09  0.9050  5.291  3.337  2.699  4.825  1\n",
       "3    13.84  13.94  0.8955  5.324  3.379  2.259  4.805  1\n",
       "4    16.14  14.99  0.9034  5.658  3.562  1.355  5.175  1\n",
       "..     ...    ...     ...    ...    ...    ...    ... ..\n",
       "205  12.19  13.20  0.8783  5.137  2.981  3.631  4.870  3\n",
       "206  11.23  12.88  0.8511  5.140  2.795  4.325  5.003  3\n",
       "207  13.20  13.66  0.8883  5.236  3.232  8.315  5.056  3\n",
       "208  11.84  13.21  0.8521  5.175  2.836  3.598  5.044  3\n",
       "209  12.30  13.34  0.8684  5.243  2.974  5.637  5.063  3\n",
       "\n",
       "[210 rows x 8 columns]"
      ]
     },
     "execution_count": 11,
     "metadata": {},
     "output_type": "execute_result"
    }
   ],
   "source": [
    "datos = pd.read_table(\"seeds_dataset.txt\", header=None)\n",
    "datos"
   ]
  },
  {
   "cell_type": "code",
   "execution_count": 70,
   "metadata": {},
   "outputs": [
    {
     "data": {
      "text/plain": [
       "0      1\n",
       "1      1\n",
       "2      1\n",
       "3      1\n",
       "4      1\n",
       "      ..\n",
       "205    3\n",
       "206    3\n",
       "207    3\n",
       "208    3\n",
       "209    3\n",
       "Name: 7, Length: 210, dtype: int64"
      ]
     },
     "execution_count": 70,
     "metadata": {},
     "output_type": "execute_result"
    }
   ],
   "source": [
    "X = StandardScaler().fit_transform(datos.iloc[:,:-1])\n",
    "X.shape\n",
    "\n",
    "y = datos.iloc[:,-1]\n",
    "y"
   ]
  },
  {
   "cell_type": "markdown",
   "metadata": {},
   "source": [
    "### Algoritmo de las kmedias\n"
   ]
  },
  {
   "cell_type": "code",
   "execution_count": 81,
   "metadata": {},
   "outputs": [],
   "source": [
    "K = np.arange(3,51)\n",
    "kf = StratifiedKFold(n_splits=10)"
   ]
  },
  {
   "cell_type": "code",
   "execution_count": 94,
   "metadata": {},
   "outputs": [
    {
     "name": "stdout",
     "output_type": "stream",
     "text": [
      "Clusters         3         4         5         6         7         8  \\\n",
      "CV                                                                     \n",
      "0         1.000000  1.000000  1.000000  0.952381  1.000000  0.952381   \n",
      "1         0.952381  0.857143  0.857143  0.904762  0.952381  0.904762   \n",
      "2         0.952381  1.000000  0.904762  0.857143  0.904762  0.904762   \n",
      "3         0.904762  0.904762  0.857143  0.952381  0.857143  0.809524   \n",
      "4         1.000000  0.952381  0.857143  0.904762  0.857143  0.952381   \n",
      "5         0.952381  0.904762  1.000000  0.952381  0.904762  0.857143   \n",
      "6         0.952381  1.000000  0.952381  1.000000  0.952381  0.952381   \n",
      "7         0.857143  0.952381  0.952381  0.809524  0.904762  0.857143   \n",
      "8         0.714286  0.809524  0.809524  0.857143  0.904762  0.809524   \n",
      "9         0.809524  0.619048  0.761905  0.619048  0.857143  0.761905   \n",
      "\n",
      "Clusters         9        10        11        12  ...        41        42  \\\n",
      "CV                                                ...                       \n",
      "0         0.952381  0.952381  0.952381  0.904762  ...  1.000000  1.000000   \n",
      "1         0.904762  0.952381  0.952381  0.904762  ...  0.857143  0.857143   \n",
      "2         0.904762  0.904762  0.904762  0.952381  ...  1.000000  1.000000   \n",
      "3         0.809524  0.809524  0.809524  0.809524  ...  0.857143  0.857143   \n",
      "4         0.952381  0.904762  0.857143  0.904762  ...  1.000000  1.000000   \n",
      "5         0.857143  0.904762  0.857143  0.857143  ...  0.904762  0.857143   \n",
      "6         0.952381  1.000000  1.000000  1.000000  ...  0.904762  0.904762   \n",
      "7         0.857143  0.904762  0.952381  0.952381  ...  0.952381  0.952381   \n",
      "8         0.714286  0.714286  0.857143  0.857143  ...  0.809524  0.809524   \n",
      "9         0.857143  0.666667  0.666667  0.619048  ...  0.666667  0.666667   \n",
      "\n",
      "Clusters        43        44        45        46        47        48  \\\n",
      "CV                                                                     \n",
      "0         1.000000  1.000000  1.000000  1.000000  1.000000  1.000000   \n",
      "1         0.857143  0.857143  0.857143  0.904762  0.904762  0.904762   \n",
      "2         1.000000  1.000000  1.000000  0.952381  0.952381  0.952381   \n",
      "3         0.857143  0.857143  0.857143  0.857143  0.904762  0.904762   \n",
      "4         1.000000  1.000000  1.000000  1.000000  1.000000  1.000000   \n",
      "5         0.857143  0.904762  0.904762  0.904762  0.904762  0.904762   \n",
      "6         0.904762  0.904762  0.904762  0.904762  0.904762  0.904762   \n",
      "7         0.952381  0.952381  0.952381  0.952381  0.952381  0.952381   \n",
      "8         0.761905  0.761905  0.809524  0.809524  0.809524  0.809524   \n",
      "9         0.619048  0.571429  0.571429  0.571429  0.571429  0.571429   \n",
      "\n",
      "Clusters        49        50  \n",
      "CV                            \n",
      "0         1.000000  1.000000  \n",
      "1         0.904762  0.904762  \n",
      "2         0.952381  0.952381  \n",
      "3         0.904762  0.904762  \n",
      "4         1.000000  1.000000  \n",
      "5         0.904762  0.904762  \n",
      "6         0.904762  0.904762  \n",
      "7         0.952381  0.952381  \n",
      "8         0.809524  0.857143  \n",
      "9         0.619048  0.619048  \n",
      "\n",
      "[10 rows x 48 columns]\n"
     ]
    }
   ],
   "source": [
    "# Su solucion\n",
    "\n",
    "max_clusters = 50\n",
    "min_clusters =np.unique(y).shape[0]\n",
    "k = [str(i) for i in range(min_clusters, max_clusters+1)]\n",
    "tabla = pd.DataFrame(columns=k, data=None, dtype=float)\n",
    "tabla.columns.name = \"Clusters\"\n",
    "tabla.index.name = \"CV\"\n",
    "\n",
    "for c in K:\n",
    "    kmedias = KMeans(n_clusters=int(c), n_init=\"auto\", random_state=0)\n",
    "\n",
    "    cv = 0\n",
    "    for train_index, test_index in kf.split(X, y):\n",
    "        X_train, y_train, X_test, y_test = X[train_index], y[train_index], X[test_index], y[test_index]\n",
    "\n",
    "        labels = kmedias.fit_predict(X_train)\n",
    "        moda = np.array([mode(y_train[labels == i]) for i in range(int(c))])\n",
    "\n",
    "        tabla.loc[cv, str(c)] = np.mean(moda[kmedias.predict(X_test)] == y_test)\n",
    "\n",
    "\n",
    "        cv += 1\n",
    "\n",
    "print(tabla)\n"
   ]
  },
  {
   "cell_type": "code",
   "execution_count": 140,
   "metadata": {},
   "outputs": [
    {
     "data": {
      "text/plain": [
       "Clusters\n",
       "3     0.909524\n",
       "4     0.900000\n",
       "5     0.895238\n",
       "6     0.880952\n",
       "7     0.909524\n",
       "8     0.876190\n",
       "9     0.876190\n",
       "10    0.871429\n",
       "11    0.880952\n",
       "12    0.876190\n",
       "13    0.871429\n",
       "14    0.876190\n",
       "15    0.885714\n",
       "16    0.895238\n",
       "17    0.885714\n",
       "18    0.876190\n",
       "19    0.890476\n",
       "20    0.871429\n",
       "21    0.914286\n",
       "22    0.914286\n",
       "23    0.914286\n",
       "24    0.923810\n",
       "25    0.928571\n",
       "26    0.923810\n",
       "27    0.923810\n",
       "28    0.919048\n",
       "29    0.909524\n",
       "30    0.914286\n",
       "31    0.914286\n",
       "32    0.909524\n",
       "33    0.909524\n",
       "34    0.900000\n",
       "35    0.885714\n",
       "36    0.871429\n",
       "37    0.866667\n",
       "38    0.880952\n",
       "39    0.890476\n",
       "40    0.895238\n",
       "41    0.895238\n",
       "42    0.890476\n",
       "43    0.880952\n",
       "44    0.880952\n",
       "45    0.885714\n",
       "46    0.885714\n",
       "47    0.890476\n",
       "48    0.890476\n",
       "49    0.895238\n",
       "50    0.900000\n",
       "dtype: float64"
      ]
     },
     "execution_count": 140,
     "metadata": {},
     "output_type": "execute_result"
    }
   ],
   "source": [
    "tasas = tabla.mean(axis=0)\n",
    "tasas"
   ]
  },
  {
   "cell_type": "code",
   "execution_count": 141,
   "metadata": {},
   "outputs": [
    {
     "name": "stdout",
     "output_type": "stream",
     "text": [
      "25\n"
     ]
    },
    {
     "data": {
      "text/plain": [
       "np.float64(0.9285714285714286)"
      ]
     },
     "execution_count": 141,
     "metadata": {},
     "output_type": "execute_result"
    }
   ],
   "source": [
    "print(tasas.idxmax())\n",
    "np.max(tasas)"
   ]
  },
  {
   "cell_type": "code",
   "execution_count": 146,
   "metadata": {},
   "outputs": [
    {
     "data": {
      "image/png": "[encoded data removed]",
      "text/plain": [
       "<Figure size 1000x600 with 1 Axes>"
      ]
     },
     "metadata": {},
     "output_type": "display_data"
    }
   ],
   "source": [
    "import matplotlib.pyplot as plt\n",
    "\n",
    "# Crear un gráfico de barras\n",
    "plt.figure(figsize=(10,6))\n",
    "\n",
    "\n",
    "bars = plt.bar(tasas.index,tasas, color='skyblue')\n",
    "bars[np.argmax(tasas)].set_color('red')\n",
    "\n",
    "# Añadir título y etiquetas\n",
    "plt.title('Gráfico de Barras')\n",
    "plt.xlabel('k')\n",
    "plt.ylabel('tasa')\n",
    "\n",
    "# Mostrar el gráfico\n",
    "plt.show()"
   ]
  },
  {
   "cell_type": "markdown",
   "metadata": {},
   "source": [
    "### Dendograma"
   ]
  },
  {
   "cell_type": "code",
   "execution_count": 148,
   "metadata": {},
   "outputs": [
    {
     "data": {
      "image/png": "[encoded data removed]",
      "text/plain": [
       "<Figure size 2500x1200 with 1 Axes>"
      ]
     },
     "metadata": {},
     "output_type": "display_data"
    }
   ],
   "source": [
    "plt.figure(figsize=(25,12))\n",
    "dendrogram = sch.dendrogram(sch.linkage(X, method='ward'))"
   ]
  },
  {
   "cell_type": "markdown",
   "metadata": {},
   "source": [
    "### Algoritmo Aglomerativo"
   ]
  },
  {
   "cell_type": "code",
   "execution_count": 152,
   "metadata": {},
   "outputs": [
    {
     "name": "stdout",
     "output_type": "stream",
     "text": [
      "Tasa de Aciertos (Jerárquico K=25):  0.9333333333333333\n"
     ]
    }
   ],
   "source": [
    "# Aglomerative Accuracy \n",
    "K = 25\n",
    "y_hc = AgglomerativeClustering(n_clusters=K, metric = 'euclidean', linkage = 'ward').fit_predict(X)\n",
    "\n",
    "moda_hc = np.array([mode(y[y_hc==i]) for i in range(K)], dtype=int)\n",
    "\n",
    "print(\"Tasa de Aciertos (Jerárquico K=25): \", np.mean(moda_hc[y_hc] == y))"
   ]
  }
 ],
 "metadata": {
  "kernelspec": {
   "display_name": "Python 3",
   "language": "python",
   "name": "python3"
  },
  "language_info": {
   "codemirror_mode": {
    "name": "ipython",
    "version": 3
   },
   "file_extension": ".py",
   "mimetype": "text/x-python",
   "name": "python",
   "nbconvert_exporter": "python",
   "pygments_lexer": "ipython3",
   "version": "3.10.12"
  }
 },
 "nbformat": 4,
 "nbformat_minor": 2
}
