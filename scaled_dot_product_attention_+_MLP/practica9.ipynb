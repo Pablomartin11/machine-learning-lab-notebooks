{
 "cells": [
  {
   "cell_type": "markdown",
   "metadata": {},
   "source": [
    "# _**Práctica 9**_"
   ]
  },
  {
   "cell_type": "markdown",
   "metadata": {},
   "source": [
    "Pablo Martín de Benito"
   ]
  },
  {
   "cell_type": "markdown",
   "metadata": {},
   "source": [
    "---"
   ]
  },
  {
   "cell_type": "code",
   "execution_count": 15,
   "metadata": {},
   "outputs": [
    {
     "name": "stdout",
     "output_type": "stream",
     "text": [
      "cpu\n"
     ]
    }
   ],
   "source": [
    "import pandas as pd\n",
    "import numpy as np\n",
    "from tqdm import tqdm\n",
    "\n",
    "import torch\n",
    "import torchvision\n",
    "import torchvision.transforms as transforms\n",
    "import torch.nn as nn\n",
    "import torch.optim as optim\n",
    "from torch.optim import Adagrad\n",
    "from torch.nn import CrossEntropyLoss\n",
    "from copy import deepcopy as dc\n",
    "from sklearn.model_selection import train_test_split\n",
    "from torchsummary import summary\n",
    "from torch.utils.data import Dataset, DataLoader\n",
    "from sklearn.preprocessing import MinMaxScaler\n",
    "from torch.nn.functional import scaled_dot_product_attention\n",
    "\n",
    "\n",
    "if torch.cuda.is_available():\n",
    "    device = \"cuda\"\n",
    "else:\n",
    "    device = \"cpu\"\n",
    "print(device)"
   ]
  },
  {
   "cell_type": "markdown",
   "metadata": {},
   "source": [
    "### **Scaled Dot Product Attention (16,49) + MLP(748,10)**"
   ]
  },
  {
   "cell_type": "code",
   "execution_count": 16,
   "metadata": {},
   "outputs": [],
   "source": [
    "import math\n",
    "\n",
    "class Network(nn.Module):\n",
    "    def __init__(self, n_embd=7*7, seq_len=4*4, n_classes=10):\n",
    "        super(Network, self).__init__()\n",
    "\n",
    "        # key, query, value projections\n",
    "        self.key = torch.nn.Linear(n_embd, n_embd)\n",
    "        self.query = torch.nn.Linear(n_embd, n_embd)\n",
    "        self.value = torch.nn.Linear(n_embd, n_embd)\n",
    "\n",
    "        self.attn = scaled_dot_product_attention\n",
    "        self.actn = torch.nn.ReLU(inplace=True)\n",
    "        self.fc = torch.nn.Linear(n_embd*seq_len, n_classes)\n",
    "\n",
    "    def forward(self, x):\n",
    "        k = self.key(x)\n",
    "        q = self.query(x)\n",
    "        v = self.value(x)\n",
    "        a = self.attn(k,q, v)\n",
    "        y = self.fc(self.actn(a.view(a.size(0), -1)))\n",
    "        return y"
   ]
  },
  {
   "cell_type": "code",
   "execution_count": 17,
   "metadata": {},
   "outputs": [],
   "source": [
    "class AttnDataset(torch.utils.data.Dataset):\n",
    "    def __init__(self, X, y, n_embd):\n",
    "        self.X = X\n",
    "        self.y = y\n",
    "        self.n_embd = n_embd\n",
    "\n",
    "    def __len__(self):\n",
    "        return self.X.shape[0]\n",
    "\n",
    "    def __getitem__(self, ix):\n",
    "        return self.X[ix].view(-1, self.n_embd), self.y[ix]"
   ]
  },
  {
   "cell_type": "code",
   "execution_count": 18,
   "metadata": {},
   "outputs": [],
   "source": [
    "train_image_set = torchvision.datasets.MNIST(root='./data', train=True, download=True, transform=transforms.Compose([transforms.ToTensor()]))\n",
    "test_image_set = torchvision.datasets.MNIST(root='./data', train=False, download=True, transform=transforms.Compose([transforms.ToTensor()]))\n",
    "\n",
    "train_images = torch.zeros((len(train_image_set), 4,4,7,7), dtype=torch.float32).to(device)\n",
    "train_labels = torch.empty(len(train_image_set), dtype=torch.long).to(device)\n",
    "\n",
    "for i, muestra in enumerate(train_image_set):\n",
    "    train_images[i] = muestra[0].view(28,28).unfold(0, 7, 7).unfold(1, 7, 7)\n",
    "    train_labels[i] = muestra[1]\n",
    "\n",
    "test_images = torch.zeros((len(test_image_set), 4,4,7,7), dtype=torch.float32).to(device)\n",
    "test_labels = torch.empty(len(test_image_set), dtype=torch.long).to(device)\n",
    "\n",
    "for i, muestra in enumerate(test_image_set):\n",
    "    test_images[i] = muestra[0].view(28,28).unfold(0, 7, 7).unfold(1, 7, 7)\n",
    "    test_labels[i] = muestra[1]"
   ]
  },
  {
   "cell_type": "code",
   "execution_count": 19,
   "metadata": {},
   "outputs": [],
   "source": [
    "train_attn_set = AttnDataset(train_images, train_labels, n_embd=7*7)\n",
    "test_attn_set = AttnDataset(test_images, test_labels, n_embd=7*7)"
   ]
  },
  {
   "cell_type": "code",
   "execution_count": 20,
   "metadata": {},
   "outputs": [],
   "source": [
    "bandeja = 32\n",
    "train_loader = torch.utils.data.DataLoader(train_attn_set,shuffle=True, batch_size=bandeja)\n",
    "train_accuracy_loader = torch.utils.data.DataLoader(train_attn_set, batch_size=60000)\n",
    "test_loader = torch.utils.data.DataLoader(test_attn_set,batch_size=10000)"
   ]
  },
  {
   "cell_type": "code",
   "execution_count": 21,
   "metadata": {},
   "outputs": [],
   "source": [
    "class Flatten_Dataset(Dataset):\n",
    " def __init__(self, images, labels):\n",
    "    self.images = images\n",
    "    self.labels = labels\n",
    "\n",
    " def __len__(self):\n",
    "    return self.images.shape[0]\n",
    " \n",
    " def __getitem__(self, idx):\n",
    "    return self.images[idx], self.labels[idx]"
   ]
  },
  {
   "cell_type": "code",
   "execution_count": 22,
   "metadata": {},
   "outputs": [],
   "source": [
    "model = Network().to(device)\n",
    "xx, yy = next(iter(train_loader))"
   ]
  },
  {
   "cell_type": "code",
   "execution_count": 23,
   "metadata": {},
   "outputs": [],
   "source": [
    "X_train, y_train = next(iter(train_accuracy_loader))\n",
    "X_test, y_test = next(iter(test_loader))"
   ]
  },
  {
   "cell_type": "code",
   "execution_count": 24,
   "metadata": {},
   "outputs": [
    {
     "name": "stdout",
     "output_type": "stream",
     "text": [
      "Epoch:  0\n"
     ]
    },
    {
     "name": "stderr",
     "output_type": "stream",
     "text": [
      "100%|██████████| 1875/1875 [00:13<00:00, 134.01it/s]\n"
     ]
    },
    {
     "name": "stdout",
     "output_type": "stream",
     "text": [
      "Train Loss: 0.53815 \tTrain Accuracy: 0.83815\n",
      " Val Loss: 0.52639 \t Test Accuracy: 0.84480 \tLearning Rate: 0.01\n",
      "Epoch:  1\n"
     ]
    },
    {
     "name": "stderr",
     "output_type": "stream",
     "text": [
      "100%|██████████| 1875/1875 [00:14<00:00, 133.27it/s]\n"
     ]
    },
    {
     "name": "stdout",
     "output_type": "stream",
     "text": [
      "Train Loss: 0.45884 \tTrain Accuracy: 0.86442\n",
      " Val Loss: 0.44983 \t Test Accuracy: 0.86970 \tLearning Rate: 0.01\n",
      "Epoch:  2\n"
     ]
    },
    {
     "name": "stderr",
     "output_type": "stream",
     "text": [
      "100%|██████████| 1875/1875 [00:14<00:00, 126.46it/s]\n"
     ]
    },
    {
     "name": "stdout",
     "output_type": "stream",
     "text": [
      "Train Loss: 0.42220 \tTrain Accuracy: 0.87505\n",
      " Val Loss: 0.41638 \t Test Accuracy: 0.87790 \tLearning Rate: 0.01\n",
      "Epoch:  3\n"
     ]
    },
    {
     "name": "stderr",
     "output_type": "stream",
     "text": [
      "100%|██████████| 1875/1875 [00:14<00:00, 127.80it/s]\n"
     ]
    },
    {
     "name": "stdout",
     "output_type": "stream",
     "text": [
      "Train Loss: 0.40035 \tTrain Accuracy: 0.88217\n",
      " Val Loss: 0.39512 \t Test Accuracy: 0.88420 \tLearning Rate: 0.01\n",
      "Epoch:  4\n"
     ]
    },
    {
     "name": "stderr",
     "output_type": "stream",
     "text": [
      "100%|██████████| 1875/1875 [00:14<00:00, 127.31it/s]\n"
     ]
    },
    {
     "name": "stdout",
     "output_type": "stream",
     "text": [
      "Train Loss: 0.38143 \tTrain Accuracy: 0.88792\n",
      " Val Loss: 0.37799 \t Test Accuracy: 0.89070 \tLearning Rate: 0.01\n",
      "Epoch:  5\n"
     ]
    },
    {
     "name": "stderr",
     "output_type": "stream",
     "text": [
      "100%|██████████| 1875/1875 [00:14<00:00, 131.84it/s]\n"
     ]
    },
    {
     "name": "stdout",
     "output_type": "stream",
     "text": [
      "Train Loss: 0.36842 \tTrain Accuracy: 0.89172\n",
      " Val Loss: 0.36755 \t Test Accuracy: 0.89280 \tLearning Rate: 0.01\n",
      "Epoch:  6\n"
     ]
    },
    {
     "name": "stderr",
     "output_type": "stream",
     "text": [
      "100%|██████████| 1875/1875 [00:14<00:00, 129.52it/s]\n"
     ]
    },
    {
     "name": "stdout",
     "output_type": "stream",
     "text": [
      "Train Loss: 0.35910 \tTrain Accuracy: 0.89348\n",
      " Val Loss: 0.35968 \t Test Accuracy: 0.89300 \tLearning Rate: 0.01\n",
      "Epoch:  7\n"
     ]
    },
    {
     "name": "stderr",
     "output_type": "stream",
     "text": [
      "100%|██████████| 1875/1875 [00:14<00:00, 127.97it/s]\n"
     ]
    },
    {
     "name": "stdout",
     "output_type": "stream",
     "text": [
      "Train Loss: 0.34886 \tTrain Accuracy: 0.89793\n",
      " Val Loss: 0.34982 \t Test Accuracy: 0.89770 \tLearning Rate: 0.01\n",
      "Epoch:  8\n"
     ]
    },
    {
     "name": "stderr",
     "output_type": "stream",
     "text": [
      "100%|██████████| 1875/1875 [00:14<00:00, 127.43it/s]\n"
     ]
    },
    {
     "name": "stdout",
     "output_type": "stream",
     "text": [
      "Train Loss: 0.34159 \tTrain Accuracy: 0.90040\n",
      " Val Loss: 0.34439 \t Test Accuracy: 0.90030 \tLearning Rate: 0.01\n",
      "Epoch:  9\n"
     ]
    },
    {
     "name": "stderr",
     "output_type": "stream",
     "text": [
      "100%|██████████| 1875/1875 [00:14<00:00, 127.97it/s]\n"
     ]
    },
    {
     "name": "stdout",
     "output_type": "stream",
     "text": [
      "Train Loss: 0.33491 \tTrain Accuracy: 0.90202\n",
      " Val Loss: 0.33929 \t Test Accuracy: 0.90190 \tLearning Rate: 0.01\n",
      "Epoch:  10\n"
     ]
    },
    {
     "name": "stderr",
     "output_type": "stream",
     "text": [
      "100%|██████████| 1875/1875 [00:13<00:00, 137.89it/s]\n"
     ]
    },
    {
     "name": "stdout",
     "output_type": "stream",
     "text": [
      "Train Loss: 0.32897 \tTrain Accuracy: 0.90342\n",
      " Val Loss: 0.33329 \t Test Accuracy: 0.90300 \tLearning Rate: 0.01\n",
      "Epoch:  11\n"
     ]
    },
    {
     "name": "stderr",
     "output_type": "stream",
     "text": [
      "100%|██████████| 1875/1875 [00:14<00:00, 126.94it/s]\n"
     ]
    },
    {
     "name": "stdout",
     "output_type": "stream",
     "text": [
      "Train Loss: 0.32394 \tTrain Accuracy: 0.90495\n",
      " Val Loss: 0.32925 \t Test Accuracy: 0.90360 \tLearning Rate: 0.01\n",
      "Epoch:  12\n"
     ]
    },
    {
     "name": "stderr",
     "output_type": "stream",
     "text": [
      "100%|██████████| 1875/1875 [00:13<00:00, 143.85it/s]\n"
     ]
    },
    {
     "name": "stdout",
     "output_type": "stream",
     "text": [
      "Train Loss: 0.32222 \tTrain Accuracy: 0.90518\n",
      " Val Loss: 0.32968 \t Test Accuracy: 0.90340 \tLearning Rate: 0.01\n",
      "Epoch:  13\n"
     ]
    },
    {
     "name": "stderr",
     "output_type": "stream",
     "text": [
      "100%|██████████| 1875/1875 [00:13<00:00, 141.32it/s]\n"
     ]
    },
    {
     "name": "stdout",
     "output_type": "stream",
     "text": [
      "Train Loss: 0.31432 \tTrain Accuracy: 0.90855\n",
      " Val Loss: 0.32175 \t Test Accuracy: 0.90510 \tLearning Rate: 0.01\n",
      "Epoch:  14\n"
     ]
    },
    {
     "name": "stderr",
     "output_type": "stream",
     "text": [
      "100%|██████████| 1875/1875 [00:14<00:00, 126.44it/s]\n"
     ]
    },
    {
     "name": "stdout",
     "output_type": "stream",
     "text": [
      "Train Loss: 0.31051 \tTrain Accuracy: 0.90938\n",
      " Val Loss: 0.31955 \t Test Accuracy: 0.90650 \tLearning Rate: 0.01\n",
      "Epoch:  15\n"
     ]
    },
    {
     "name": "stderr",
     "output_type": "stream",
     "text": [
      "100%|██████████| 1875/1875 [00:15<00:00, 122.26it/s]\n"
     ]
    },
    {
     "name": "stdout",
     "output_type": "stream",
     "text": [
      "Train Loss: 0.30734 \tTrain Accuracy: 0.90983\n",
      " Val Loss: 0.31595 \t Test Accuracy: 0.90750 \tLearning Rate: 0.01\n",
      "Epoch:  16\n"
     ]
    },
    {
     "name": "stderr",
     "output_type": "stream",
     "text": [
      "100%|██████████| 1875/1875 [00:14<00:00, 127.13it/s]\n"
     ]
    },
    {
     "name": "stdout",
     "output_type": "stream",
     "text": [
      "Train Loss: 0.30426 \tTrain Accuracy: 0.91122\n",
      " Val Loss: 0.31386 \t Test Accuracy: 0.90790 \tLearning Rate: 0.01\n",
      "Epoch:  17\n"
     ]
    },
    {
     "name": "stderr",
     "output_type": "stream",
     "text": [
      "100%|██████████| 1875/1875 [00:14<00:00, 127.31it/s]\n"
     ]
    },
    {
     "name": "stdout",
     "output_type": "stream",
     "text": [
      "Train Loss: 0.30122 \tTrain Accuracy: 0.91203\n",
      " Val Loss: 0.31094 \t Test Accuracy: 0.90770 \tLearning Rate: 0.01\n",
      "Epoch:  18\n"
     ]
    },
    {
     "name": "stderr",
     "output_type": "stream",
     "text": [
      "100%|██████████| 1875/1875 [00:14<00:00, 132.17it/s]\n"
     ]
    },
    {
     "name": "stdout",
     "output_type": "stream",
     "text": [
      "Train Loss: 0.29866 \tTrain Accuracy: 0.91253\n",
      " Val Loss: 0.30851 \t Test Accuracy: 0.90900 \tLearning Rate: 0.01\n",
      "Epoch:  19\n"
     ]
    },
    {
     "name": "stderr",
     "output_type": "stream",
     "text": [
      "100%|██████████| 1875/1875 [00:14<00:00, 127.86it/s]\n"
     ]
    },
    {
     "name": "stdout",
     "output_type": "stream",
     "text": [
      "Train Loss: 0.29544 \tTrain Accuracy: 0.91340\n",
      " Val Loss: 0.30740 \t Test Accuracy: 0.90970 \tLearning Rate: 0.01\n"
     ]
    }
   ],
   "source": [
    "epochs = 20\n",
    "train_accuracy = []\n",
    "train_loss = []\n",
    "test_accuracy = []\n",
    "test_loss = []\n",
    "learning_rate = []\n",
    "optimizer = Adagrad(model.parameters())\n",
    "criterion = CrossEntropyLoss()\n",
    "\n",
    "for i in range(epochs):\n",
    "    print(\"Epoch: \", i)\n",
    "    model.train(True)\n",
    "    for images,targets in tqdm(train_loader):\n",
    "        #making predictions\n",
    "        y_pred = model(images.to(device))\n",
    "        #calculating loss\n",
    "        loss = criterion(y_pred,targets.long().to(device))    #backprop\n",
    "        optimizer.zero_grad()\n",
    "        loss.backward()\n",
    "        optimizer.step()\n",
    "\n",
    "\n",
    "    with torch.no_grad():\n",
    "        y_train_pred = model(X_train.to(device))\n",
    "        train_accuracy.append(np.mean((y_train == y_train_pred.cpu().argmax(dim=1)).numpy()))\n",
    "        train_loss.append(criterion(y_train_pred.cpu(), y_train.long()).numpy())\n",
    "    print('Train Loss: {0:.5f}'.format(train_loss[-1]), '\\tTrain Accuracy: {0:.5f}'.format(train_accuracy[-1]))\n",
    "\n",
    "    with torch.no_grad():\n",
    "        y_test_pred = (model(X_test.to(device)))\n",
    "        test_accuracy.append(np.mean((y_test == y_test_pred.cpu().argmax(dim=1)).numpy()))\n",
    "        test_loss.append(criterion(y_test_pred.cpu(), y_test.long()).numpy())\n",
    "        learning_rate.append(optimizer.param_groups[0]['lr'])\n",
    "    print(' Val Loss: {0:.5f}'.format(test_loss[-1]), '\\t Test Accuracy: {0:.5f}'.format(test_accuracy[-1]), \"\\tLearning Rate:\", learning_rate[-1])"
   ]
  },
  {
   "cell_type": "code",
   "execution_count": 25,
   "metadata": {},
   "outputs": [
    {
     "data": {
      "image/png": "[encoded data removed]",
      "text/plain": [
       "<Figure size 700x300 with 1 Axes>"
      ]
     },
     "metadata": {},
     "output_type": "display_data"
    }
   ],
   "source": [
    "# Grafico de línea loss vs epochs\n",
    "import matplotlib.pyplot as plt\n",
    "\n",
    "plt.figure(figsize=(7, 3))\n",
    "plt.plot(train_loss, linestyle='-',color='b', label='Train Loss')\n",
    "plt.plot(test_loss, linestyle='-', color='r', label='Test Loss')\n",
    "plt.title('Loss vs Epochs')\n",
    "plt.xlabel('Epochs')\n",
    "plt.ylabel('Loss')\n",
    "plt.legend()\n",
    "plt.grid(True)\n",
    "plt.show()"
   ]
  },
  {
   "cell_type": "code",
   "execution_count": 26,
   "metadata": {},
   "outputs": [
    {
     "data": {
      "image/png": "[encoded data removed]",
      "text/plain": [
       "<Figure size 400x400 with 16 Axes>"
      ]
     },
     "metadata": {},
     "output_type": "display_data"
    }
   ],
   "source": [
    "r, c = 4,4\n",
    "fig = plt.figure(figsize=(c,r))\n",
    "for _r in range(r):\n",
    "    for _c in range(c):\n",
    "        ix = _r*c + _c\n",
    "        ax = plt.subplot(r,c,ix+1)\n",
    "        ax.imshow(train_images[2500,_r,_c].cpu().numpy(), cmap='gray')\n",
    "        ax.axis('off')\n",
    "plt.tight_layout()\n",
    "plt.show()"
   ]
  },
  {
   "cell_type": "code",
   "execution_count": 27,
   "metadata": {},
   "outputs": [
    {
     "data": {
      "image/png": "[encoded data removed]",
      "text/plain": [
       "<Figure size 700x300 with 1 Axes>"
      ]
     },
     "metadata": {},
     "output_type": "display_data"
    }
   ],
   "source": [
    "# Grafico accuracy\n",
    "plt.figure(figsize=(7, 3))\n",
    "plt.plot(train_accuracy, linestyle='-',color='b', label='Train Loss')\n",
    "plt.plot(test_accuracy, linestyle='-', color='r', label='Test Loss')\n",
    "plt.title('Loss vs Epochs')\n",
    "plt.xlabel('Epochs')\n",
    "plt.ylabel('Loss')\n",
    "plt.legend()\n",
    "plt.grid(True)\n",
    "plt.show()"
   ]
  }
 ],
 "metadata": {
  "kernelspec": {
   "display_name": "base",
   "language": "python",
   "name": "python3"
  },
  "language_info": {
   "codemirror_mode": {
    "name": "ipython",
    "version": 3
   },
   "file_extension": ".py",
   "mimetype": "text/x-python",
   "name": "python",
   "nbconvert_exporter": "python",
   "pygments_lexer": "ipython3",
   "version": "3.12.7"
  }
 },
 "nbformat": 4,
 "nbformat_minor": 2
}
