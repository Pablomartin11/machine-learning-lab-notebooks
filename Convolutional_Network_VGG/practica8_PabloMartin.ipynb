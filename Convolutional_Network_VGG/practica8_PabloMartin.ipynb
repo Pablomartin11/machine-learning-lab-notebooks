{
 "cells": [
  {
   "cell_type": "markdown",
   "metadata": {},
   "source": [
    "# **_Entrega 8_**"
   ]
  },
  {
   "cell_type": "markdown",
   "metadata": {},
   "source": [
    "_Pablo Martín de Benito_"
   ]
  },
  {
   "cell_type": "markdown",
   "metadata": {},
   "source": [
    "---"
   ]
  },
  {
   "cell_type": "markdown",
   "metadata": {},
   "source": [
    "Clasificación de imágenes:\n",
    "– Dataset: MNIST FASHION incluida en PyTorch \n",
    "\n",
    "– Arquitectura VGG:\n",
    "\n",
    "● CNN(1,16) + CNN(16,32) + MaxPool(2)\n",
    "\n",
    "● CNN(32,64) + CNN(64,128) + MaxPool(2)\n",
    "\n",
    "● MLP(¿?, 128, 10)\n",
    "\n",
    "– Tamaño de bandeja: 32\n",
    "\n",
    "– Función de pérdida: Entropía Cruzada\n",
    "\n",
    "– Optimizador: Adagrad (tasa de aprendizaje adaptativo)\n",
    "\n",
    "– Épocas:20"
   ]
  },
  {
   "cell_type": "code",
   "execution_count": 1,
   "metadata": {},
   "outputs": [
    {
     "name": "stdout",
     "output_type": "stream",
     "text": [
      "cpu\n"
     ]
    }
   ],
   "source": [
    "import pandas as pd\n",
    "import numpy as np\n",
    "from tqdm import tqdm\n",
    "\n",
    "import torch\n",
    "import torchvision\n",
    "import torchvision.transforms as transforms\n",
    "import torch.nn as nn\n",
    "import torch.optim as optim\n",
    "from torch.optim import Adagrad\n",
    "from torch.nn import CrossEntropyLoss\n",
    "from copy import deepcopy as dc\n",
    "from sklearn.model_selection import train_test_split\n",
    "from torchsummary import summary\n",
    "from torch.utils.data import Dataset, DataLoader\n",
    "from sklearn.preprocessing import MinMaxScaler\n",
    "\n",
    "\n",
    "if torch.cuda.is_available():\n",
    "    device = \"cuda\"\n",
    "else:\n",
    "    device = \"cpu\"\n",
    "print(device)"
   ]
  },
  {
   "cell_type": "code",
   "execution_count": 2,
   "metadata": {},
   "outputs": [],
   "source": [
    "train_set = torchvision.datasets.FashionMNIST(root = './data/FashionMNIST', download = True, train = True,\n",
    " transform = transforms.Compose([transforms.ToTensor()]))\n",
    "test_set = torchvision.datasets.FashionMNIST(root = './data/FashionMNIST', download=True, train=False,\n",
    " transform = transforms.Compose([transforms.ToTensor()]))"
   ]
  },
  {
   "cell_type": "code",
   "execution_count": 3,
   "metadata": {},
   "outputs": [],
   "source": [
    "bandeja = 32\n",
    "train_loader = torch.utils.data.DataLoader(train_set,shuffle=True, batch_size=bandeja)\n",
    "train_accuracy_loader = torch.utils.data.DataLoader(train_set, batch_size=60000)\n",
    "test_loader = torch.utils.data.DataLoader(test_set,batch_size=10000)"
   ]
  },
  {
   "cell_type": "code",
   "execution_count": 5,
   "metadata": {},
   "outputs": [],
   "source": [
    "train_images = torch.zeros((len(train_set), 28*28), dtype=torch.float32)\n",
    "train_labels = torch.empty(len(train_set), dtype=torch.long)\n",
    "for i, muestra in enumerate(train_set):\n",
    " train_images[i] = torch.flatten(muestra[0])\n",
    " train_labels[i] = muestra[1]"
   ]
  },
  {
   "cell_type": "code",
   "execution_count": 6,
   "metadata": {},
   "outputs": [],
   "source": [
    "class Network(nn.Module):\n",
    " def __init__(self):\n",
    "    super(Network,self).__init__()\n",
    "    self.conv1 = nn.Conv2d(in_channels=1,out_channels=16,kernel_size=3)\n",
    "    self.conv2 = nn.Conv2d(in_channels=16,out_channels=32,kernel_size=3)\n",
    "    self.conv3 = nn.Conv2d(in_channels=32,out_channels=64,kernel_size=3)\n",
    "    self.conv4 = nn.Conv2d(in_channels=64,out_channels=128,kernel_size=3)\n",
    "\n",
    "    self.relu = nn.LeakyReLU()\n",
    "\n",
    "    self.pool = nn.MaxPool2d(kernel_size=2,stride=2)\n",
    "    self.fc1 = nn.Linear(in_features=4*4*128,out_features=128)\n",
    "    self.out = nn.Linear(in_features=128,out_features=10)\n",
    "\n",
    " def forward(self,x):\n",
    "    #first CNN layer\n",
    "    x = self.conv1(x)\n",
    "    x = self.relu(x)\n",
    "    x = self.conv2(x)\n",
    "    x = self.relu(x)\n",
    "    x = self.pool(x)\n",
    "    #second CNN layer\n",
    "    x = self.conv3(x)\n",
    "    x = self.relu(x)\n",
    "    x = self.conv4(x)\n",
    "    x = self.relu(x)\n",
    "    x = self.pool(x)\n",
    "\n",
    "    #mlp hidden layer\n",
    "    x = torch.flatten(x, start_dim=1)\n",
    "    x = self.fc1(x)\n",
    "    x = self.relu(x)\n",
    "\n",
    "    #output layer\n",
    "    x = self.out(x)\n",
    "    return x"
   ]
  },
  {
   "cell_type": "code",
   "execution_count": 7,
   "metadata": {},
   "outputs": [
    {
     "data": {
      "text/plain": [
       "torch.Size([32, 128, 4, 4])"
      ]
     },
     "execution_count": 7,
     "metadata": {},
     "output_type": "execute_result"
    }
   ],
   "source": [
    "model = Network().to(device)\n",
    "xx, yy = next(iter(train_loader))\n",
    "# Si ponemos xx.to(device) podemos pasarlo a la GPU.\n",
    "x1 = model.pool(model.relu(model.conv2(model.relu(model.conv1(xx.to(device))))))\n",
    "x2 = model.pool(model.relu(model.conv4(model.relu(model.conv3(x1)))))\n",
    "x2.shape"
   ]
  },
  {
   "cell_type": "code",
   "execution_count": 8,
   "metadata": {},
   "outputs": [
    {
     "name": "stdout",
     "output_type": "stream",
     "text": [
      "----------------------------------------------------------------\n",
      "        Layer (type)               Output Shape         Param #\n",
      "================================================================\n",
      "            Conv2d-1           [-1, 16, 26, 26]             160\n",
      "         LeakyReLU-2           [-1, 16, 26, 26]               0\n",
      "            Conv2d-3           [-1, 32, 24, 24]           4,640\n",
      "         LeakyReLU-4           [-1, 32, 24, 24]               0\n",
      "         MaxPool2d-5           [-1, 32, 12, 12]               0\n",
      "            Conv2d-6           [-1, 64, 10, 10]          18,496\n",
      "         LeakyReLU-7           [-1, 64, 10, 10]               0\n",
      "            Conv2d-8            [-1, 128, 8, 8]          73,856\n",
      "         LeakyReLU-9            [-1, 128, 8, 8]               0\n",
      "        MaxPool2d-10            [-1, 128, 4, 4]               0\n",
      "           Linear-11                  [-1, 128]         262,272\n",
      "        LeakyReLU-12                  [-1, 128]               0\n",
      "           Linear-13                   [-1, 10]           1,290\n",
      "================================================================\n",
      "Total params: 360,714\n",
      "Trainable params: 360,714\n",
      "Non-trainable params: 0\n",
      "----------------------------------------------------------------\n",
      "Input size (MB): 0.00\n",
      "Forward/backward pass size (MB): 0.72\n",
      "Params size (MB): 1.38\n",
      "Estimated Total Size (MB): 2.10\n",
      "----------------------------------------------------------------\n"
     ]
    }
   ],
   "source": [
    "summary(model, input_size= (1,28,28))"
   ]
  },
  {
   "cell_type": "code",
   "execution_count": 9,
   "metadata": {},
   "outputs": [],
   "source": [
    "X_train, y_train = next(iter(train_accuracy_loader))\n",
    "X_test, y_test = next(iter(test_loader))"
   ]
  },
  {
   "cell_type": "code",
   "execution_count": 10,
   "metadata": {},
   "outputs": [
    {
     "name": "stdout",
     "output_type": "stream",
     "text": [
      "Epoch:  0\n"
     ]
    },
    {
     "name": "stderr",
     "output_type": "stream",
     "text": [
      "100%|██████████| 1875/1875 [00:23<00:00, 79.78it/s]\n"
     ]
    },
    {
     "name": "stdout",
     "output_type": "stream",
     "text": [
      "Train Loss: 0.35777 \tTrain Accuracy: 0.86815\n",
      " Val Loss: 0.38273 \t Test Accuracy: 0.85700 \tLearning Rate: 0.01\n",
      "Epoch:  1\n"
     ]
    },
    {
     "name": "stderr",
     "output_type": "stream",
     "text": [
      "100%|██████████| 1875/1875 [00:24<00:00, 75.87it/s]\n"
     ]
    },
    {
     "name": "stdout",
     "output_type": "stream",
     "text": [
      "Train Loss: 0.30397 \tTrain Accuracy: 0.88802\n",
      " Val Loss: 0.33344 \t Test Accuracy: 0.87760 \tLearning Rate: 0.01\n",
      "Epoch:  2\n"
     ]
    },
    {
     "name": "stderr",
     "output_type": "stream",
     "text": [
      "100%|██████████| 1875/1875 [00:23<00:00, 78.18it/s]\n"
     ]
    },
    {
     "name": "stdout",
     "output_type": "stream",
     "text": [
      "Train Loss: 0.27776 \tTrain Accuracy: 0.89712\n",
      " Val Loss: 0.31161 \t Test Accuracy: 0.88630 \tLearning Rate: 0.01\n",
      "Epoch:  3\n"
     ]
    },
    {
     "name": "stderr",
     "output_type": "stream",
     "text": [
      "100%|██████████| 1875/1875 [00:25<00:00, 73.76it/s]\n"
     ]
    },
    {
     "name": "stdout",
     "output_type": "stream",
     "text": [
      "Train Loss: 0.24540 \tTrain Accuracy: 0.90957\n",
      " Val Loss: 0.28138 \t Test Accuracy: 0.89620 \tLearning Rate: 0.01\n",
      "Epoch:  4\n"
     ]
    },
    {
     "name": "stderr",
     "output_type": "stream",
     "text": [
      "100%|██████████| 1875/1875 [00:23<00:00, 80.13it/s]\n"
     ]
    },
    {
     "name": "stdout",
     "output_type": "stream",
     "text": [
      "Train Loss: 0.22016 \tTrain Accuracy: 0.92050\n",
      " Val Loss: 0.26064 \t Test Accuracy: 0.90580 \tLearning Rate: 0.01\n",
      "Epoch:  5\n"
     ]
    },
    {
     "name": "stderr",
     "output_type": "stream",
     "text": [
      "100%|██████████| 1875/1875 [00:24<00:00, 76.41it/s]\n"
     ]
    },
    {
     "name": "stdout",
     "output_type": "stream",
     "text": [
      "Train Loss: 0.21002 \tTrain Accuracy: 0.92255\n",
      " Val Loss: 0.25763 \t Test Accuracy: 0.90550 \tLearning Rate: 0.01\n",
      "Epoch:  6\n"
     ]
    },
    {
     "name": "stderr",
     "output_type": "stream",
     "text": [
      "100%|██████████| 1875/1875 [00:24<00:00, 75.38it/s]\n"
     ]
    },
    {
     "name": "stdout",
     "output_type": "stream",
     "text": [
      "Train Loss: 0.20261 \tTrain Accuracy: 0.92515\n",
      " Val Loss: 0.25402 \t Test Accuracy: 0.90850 \tLearning Rate: 0.01\n",
      "Epoch:  7\n"
     ]
    },
    {
     "name": "stderr",
     "output_type": "stream",
     "text": [
      "100%|██████████| 1875/1875 [00:25<00:00, 72.79it/s]\n"
     ]
    },
    {
     "name": "stdout",
     "output_type": "stream",
     "text": [
      "Train Loss: 0.19196 \tTrain Accuracy: 0.92987\n",
      " Val Loss: 0.24619 \t Test Accuracy: 0.91270 \tLearning Rate: 0.01\n",
      "Epoch:  8\n"
     ]
    },
    {
     "name": "stderr",
     "output_type": "stream",
     "text": [
      "100%|██████████| 1875/1875 [00:23<00:00, 79.22it/s]\n"
     ]
    },
    {
     "name": "stdout",
     "output_type": "stream",
     "text": [
      "Train Loss: 0.18725 \tTrain Accuracy: 0.93018\n",
      " Val Loss: 0.24776 \t Test Accuracy: 0.90960 \tLearning Rate: 0.01\n",
      "Epoch:  9\n"
     ]
    },
    {
     "name": "stderr",
     "output_type": "stream",
     "text": [
      "100%|██████████| 1875/1875 [00:23<00:00, 81.07it/s]\n"
     ]
    },
    {
     "name": "stdout",
     "output_type": "stream",
     "text": [
      "Train Loss: 0.17429 \tTrain Accuracy: 0.93625\n",
      " Val Loss: 0.23707 \t Test Accuracy: 0.91530 \tLearning Rate: 0.01\n",
      "Epoch:  10\n"
     ]
    },
    {
     "name": "stderr",
     "output_type": "stream",
     "text": [
      "100%|██████████| 1875/1875 [00:25<00:00, 73.25it/s]\n"
     ]
    },
    {
     "name": "stdout",
     "output_type": "stream",
     "text": [
      "Train Loss: 0.17097 \tTrain Accuracy: 0.93773\n",
      " Val Loss: 0.23564 \t Test Accuracy: 0.91600 \tLearning Rate: 0.01\n",
      "Epoch:  11\n"
     ]
    },
    {
     "name": "stderr",
     "output_type": "stream",
     "text": [
      "100%|██████████| 1875/1875 [00:23<00:00, 78.56it/s]\n"
     ]
    },
    {
     "name": "stdout",
     "output_type": "stream",
     "text": [
      "Train Loss: 0.16218 \tTrain Accuracy: 0.94112\n",
      " Val Loss: 0.23525 \t Test Accuracy: 0.91770 \tLearning Rate: 0.01\n",
      "Epoch:  12\n"
     ]
    },
    {
     "name": "stderr",
     "output_type": "stream",
     "text": [
      "100%|██████████| 1875/1875 [00:23<00:00, 79.92it/s]\n"
     ]
    },
    {
     "name": "stdout",
     "output_type": "stream",
     "text": [
      "Train Loss: 0.16160 \tTrain Accuracy: 0.94043\n",
      " Val Loss: 0.23922 \t Test Accuracy: 0.91610 \tLearning Rate: 0.01\n",
      "Epoch:  13\n"
     ]
    },
    {
     "name": "stderr",
     "output_type": "stream",
     "text": [
      "100%|██████████| 1875/1875 [00:22<00:00, 82.13it/s]\n"
     ]
    },
    {
     "name": "stdout",
     "output_type": "stream",
     "text": [
      "Train Loss: 0.14546 \tTrain Accuracy: 0.94815\n",
      " Val Loss: 0.22955 \t Test Accuracy: 0.92040 \tLearning Rate: 0.01\n",
      "Epoch:  14\n"
     ]
    },
    {
     "name": "stderr",
     "output_type": "stream",
     "text": [
      "100%|██████████| 1875/1875 [00:23<00:00, 78.72it/s]\n"
     ]
    },
    {
     "name": "stdout",
     "output_type": "stream",
     "text": [
      "Train Loss: 0.15078 \tTrain Accuracy: 0.94413\n",
      " Val Loss: 0.24213 \t Test Accuracy: 0.91560 \tLearning Rate: 0.01\n",
      "Epoch:  15\n"
     ]
    },
    {
     "name": "stderr",
     "output_type": "stream",
     "text": [
      "100%|██████████| 1875/1875 [00:22<00:00, 81.84it/s]\n"
     ]
    },
    {
     "name": "stdout",
     "output_type": "stream",
     "text": [
      "Train Loss: 0.14284 \tTrain Accuracy: 0.94775\n",
      " Val Loss: 0.23425 \t Test Accuracy: 0.91980 \tLearning Rate: 0.01\n",
      "Epoch:  16\n"
     ]
    },
    {
     "name": "stderr",
     "output_type": "stream",
     "text": [
      "100%|██████████| 1875/1875 [00:22<00:00, 83.81it/s]\n"
     ]
    },
    {
     "name": "stdout",
     "output_type": "stream",
     "text": [
      "Train Loss: 0.13509 \tTrain Accuracy: 0.95140\n",
      " Val Loss: 0.23391 \t Test Accuracy: 0.91970 \tLearning Rate: 0.01\n",
      "Epoch:  17\n"
     ]
    },
    {
     "name": "stderr",
     "output_type": "stream",
     "text": [
      "100%|██████████| 1875/1875 [00:23<00:00, 80.29it/s]\n"
     ]
    },
    {
     "name": "stdout",
     "output_type": "stream",
     "text": [
      "Train Loss: 0.12811 \tTrain Accuracy: 0.95385\n",
      " Val Loss: 0.22874 \t Test Accuracy: 0.92130 \tLearning Rate: 0.01\n",
      "Epoch:  18\n"
     ]
    },
    {
     "name": "stderr",
     "output_type": "stream",
     "text": [
      "100%|██████████| 1875/1875 [00:22<00:00, 83.82it/s]\n"
     ]
    },
    {
     "name": "stdout",
     "output_type": "stream",
     "text": [
      "Train Loss: 0.12015 \tTrain Accuracy: 0.95725\n",
      " Val Loss: 0.23173 \t Test Accuracy: 0.92220 \tLearning Rate: 0.01\n",
      "Epoch:  19\n"
     ]
    },
    {
     "name": "stderr",
     "output_type": "stream",
     "text": [
      "100%|██████████| 1875/1875 [00:22<00:00, 81.64it/s]\n"
     ]
    },
    {
     "name": "stdout",
     "output_type": "stream",
     "text": [
      "Train Loss: 0.11441 \tTrain Accuracy: 0.95940\n",
      " Val Loss: 0.23352 \t Test Accuracy: 0.92110 \tLearning Rate: 0.01\n"
     ]
    }
   ],
   "source": [
    "epochs = 20\n",
    "train_accuracy = []\n",
    "train_loss = []\n",
    "test_accuracy = []\n",
    "test_loss = []\n",
    "learning_rate = []\n",
    "optimizer = Adagrad(model.parameters())\n",
    "criterion = CrossEntropyLoss()\n",
    "\n",
    "for i in range(epochs):\n",
    "    print(\"Epoch: \", i)\n",
    "    model.train(True)\n",
    "    for images,targets in tqdm(train_loader):\n",
    "        #making predictions\n",
    "        y_pred = model(images.to(device))\n",
    "        #calculating loss\n",
    "        loss = criterion(y_pred,targets.long().to(device))    #backprop\n",
    "        optimizer.zero_grad()\n",
    "        loss.backward()\n",
    "        optimizer.step()\n",
    "\n",
    "\n",
    "    with torch.no_grad():\n",
    "        y_train_pred = model(X_train.to(device))\n",
    "        train_accuracy.append(np.mean((y_train == y_train_pred.cpu().argmax(dim=1)).numpy()))\n",
    "        train_loss.append(criterion(y_train_pred.cpu(), y_train.long()).numpy())\n",
    "    print('Train Loss: {0:.5f}'.format(train_loss[-1]), '\\tTrain Accuracy: {0:.5f}'.format(train_accuracy[-1]))\n",
    "\n",
    "    with torch.no_grad():\n",
    "        y_test_pred = (model(X_test.to(device)))\n",
    "        test_accuracy.append(np.mean((y_test == y_test_pred.cpu().argmax(dim=1)).numpy()))\n",
    "        test_loss.append(criterion(y_test_pred.cpu(), y_test.long()).numpy())\n",
    "        learning_rate.append(optimizer.param_groups[0]['lr'])\n",
    "    print(' Val Loss: {0:.5f}'.format(test_loss[-1]), '\\t Test Accuracy: {0:.5f}'.format(test_accuracy[-1]), \"\\tLearning Rate:\", learning_rate[-1])"
   ]
  },
  {
   "cell_type": "code",
   "execution_count": 13,
   "metadata": {},
   "outputs": [
    {
     "data": {
      "image/png": "[encoded data removed]",
      "text/plain": [
       "<Figure size 700x300 with 1 Axes>"
      ]
     },
     "metadata": {},
     "output_type": "display_data"
    }
   ],
   "source": [
    "# Grafico de línea loss vs epochs\n",
    "import matplotlib.pyplot as plt\n",
    "\n",
    "plt.figure(figsize=(7, 3))\n",
    "plt.plot(train_loss, linestyle='-',color='b', label='Train Loss')\n",
    "plt.plot(test_loss, linestyle='-', color='r', label='Test Loss')\n",
    "plt.title('Loss vs Epochs')\n",
    "plt.xlabel('Epochs')\n",
    "plt.ylabel('Loss')\n",
    "plt.legend()\n",
    "plt.grid(True)\n",
    "plt.show()"
   ]
  },
  {
   "cell_type": "code",
   "execution_count": 14,
   "metadata": {},
   "outputs": [
    {
     "data": {
      "image/png": "[encoded data removed]",
      "text/plain": [
       "<Figure size 700x300 with 1 Axes>"
      ]
     },
     "metadata": {},
     "output_type": "display_data"
    }
   ],
   "source": [
    "# Grafico accuracy\n",
    "plt.figure(figsize=(7, 3))\n",
    "plt.plot(train_accuracy, linestyle='-',color='b', label='Train Loss')\n",
    "plt.plot(test_accuracy, linestyle='-', color='r', label='Test Loss')\n",
    "plt.title('Loss vs Epochs')\n",
    "plt.xlabel('Epochs')\n",
    "plt.ylabel('Loss')\n",
    "plt.legend()\n",
    "plt.grid(True)\n",
    "plt.show()"
   ]
  },
  {
   "cell_type": "code",
   "execution_count": null,
   "metadata": {},
   "outputs": [],
   "source": []
  }
 ],
 "metadata": {
  "kernelspec": {
   "display_name": "base",
   "language": "python",
   "name": "python3"
  },
  "language_info": {
   "codemirror_mode": {
    "name": "ipython",
    "version": 3
   },
   "file_extension": ".py",
   "mimetype": "text/x-python",
   "name": "python",
   "nbconvert_exporter": "python",
   "pygments_lexer": "ipython3",
   "version": "3.11.5"
  }
 },
 "nbformat": 4,
 "nbformat_minor": 2
}
